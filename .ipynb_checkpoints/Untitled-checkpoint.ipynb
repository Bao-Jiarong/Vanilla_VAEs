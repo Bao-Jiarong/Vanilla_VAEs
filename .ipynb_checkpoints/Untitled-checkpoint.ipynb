{
 "cells": [
  {
   "cell_type": "code",
   "execution_count": 18,
   "metadata": {},
   "outputs": [
    {
     "data": {
      "image/png": "[encoded data removed]",
      "text/plain": [
       "<IPython.core.display.Image object>"
      ]
     },
     "metadata": {},
     "output_type": "display_data"
    }
   ],
   "source": [
    "import os\n",
    "import sys\n",
    "import cv2\n",
    "os.environ['TF_CPP_MIN_LOG_LEVEL'] = '3'\n",
    "import numpy as np\n",
    "import tensorflow as tf\n",
    "import loader\n",
    "import vanilla_vae\n",
    "import IPython\n",
    "#-------------------------------------------------------------------\n",
    "def imshow(img):\n",
    "    _,ret = cv2.imencode('.jpg', img)\n",
    "    i = IPython.display.Image(data=ret)\n",
    "    IPython.display.display(i)\n",
    "    \n",
    "#-------------------------------------------------------------------   \n",
    "# Input/Ouptut Parameters\n",
    "image_size = 28\n",
    "latent_dim = 200\n",
    "model_name = \"models/vanilla/digists\"\n",
    "img_filename= \"../../data_img/MNIST/test/img_2.jpg\"\n",
    "\n",
    "# Step 0: Global Parameters\n",
    "epochs     = 30\n",
    "lr_rate    = 1e-4\n",
    "batch_size = 4\n",
    "\n",
    "# Step 1: Create Model\n",
    "model = vanilla_vae.VANILLA_VAE(image_size = image_size, latent_dim = latent_dim)\n",
    "model.build((None, image_size,image_size,3))\n",
    "\n",
    "# Step 2: Define Metrics\n",
    "# print(model.summary())\n",
    "# sys.exit()\n",
    "\n",
    "# Step 3: Loads the weights\n",
    "model.load_weights(model_name)\n",
    "my_model = tf.keras.Sequential([model])\n",
    "\n",
    "# Step 4: Prepare the input\n",
    "img = cv2.imread(img_filename)\n",
    "image = cv2.resize(img,(image_size,image_size),interpolation = cv2.INTER_AREA)\n",
    "images = (np.array([image])*1.0 / 255.0).astype(np.float32)\n",
    "# images = loader.scaling_tech(images,method=\"normalization\")\n",
    "imshow(images[0])\n",
    "\n",
    "# Step 5: Predict the class\n",
    "preds = my_model.predict(images)\n",
    "# print(np.argmax(preds[0]))\n",
    "# print(preds[0])\n",
    "all_imgs = np.hstack((images[0], preds[0]))\n",
    "all_imgs = cv2.resize(all_imgs,(8*image_size,4*image_size),interpolation = cv2.INTER_AREA)\n"
   ]
  },
  {
   "cell_type": "code",
   "execution_count": null,
   "metadata": {},
   "outputs": [],
   "source": []
  }
 ],
 "metadata": {
  "kernelspec": {
   "display_name": "Python 3",
   "language": "python",
   "name": "python3"
  },
  "language_info": {
   "codemirror_mode": {
    "name": "ipython",
    "version": 3
   },
   "file_extension": ".py",
   "mimetype": "text/x-python",
   "name": "python",
   "nbconvert_exporter": "python",
   "pygments_lexer": "ipython3",
   "version": "3.7.0"
  }
 },
 "nbformat": 4,
 "nbformat_minor": 4
}
